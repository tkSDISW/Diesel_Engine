{
 "cells": [
  {
   "cell_type": "markdown",
   "id": "b46e4f09-8115-49fc-8989-f01d087f109a",
   "metadata": {},
   "source": [
    "# Diesel Engine - Power Study"
   ]
  },
  {
   "cell_type": "markdown",
   "id": "6f1b91e1-c1c2-4ac1-8580-94ceef32f2c0",
   "metadata": {},
   "source": [
    "This is a study that will use properties in the a Capella model to perform a study on the number of solar panels required to satisfy various a few usage scenarios.\n",
    "\n",
    "Access the System Model that is in GitHUB folder with a python module \"caplellambse\" that can read and modify the SMW/Capella model content."
   ]
  },
  {
   "cell_type": "code",
   "execution_count": 1,
   "id": "e99b2511-2f4f-427a-9b6c-091d684bfcf5",
   "metadata": {
    "scrolled": true
   },
   "outputs": [],
   "source": [
    "import capellambse\n",
    "\n",
    "import ipywidgets as widgets\n",
    "from IPython.core.display import HTML\n",
    "import numpy as np\n",
    "import pandas as pd \n",
    "from IPython.display import Markdown\n",
    "\n",
    "\n",
    "resources = {\n",
    "    \"Diesel_Engine\": \"Diesel_Engine/Diesel_Engine\",\n",
    "}\n",
    "path_to_model = \"../Diesel_Engine.aird\"\n",
    "model = capellambse.MelodyModel(path_to_model, resources=resources)\n",
    "\n",
    "import capellambse_helper #local python module in same directory as notebook needs to be included after model object is created since it patches/extends capabilitits of the model "
   ]
  },
  {
   "cell_type": "markdown",
   "id": "1a94df42-75f8-4c75-a7a9-de6f49459482",
   "metadata": {},
   "source": [
    "Display a diagram from the capella module with parameters being accessed. Note that this diagram is not being pulled dynamically, due to the desire to see the parameters on the diagram. It is pulling a snapshot of a .jpg diagram."
   ]
  },
  {
   "cell_type": "code",
   "execution_count": 2,
   "id": "7d61e236-8602-4dd2-b6f0-6696b8c57bea",
   "metadata": {},
   "outputs": [],
   "source": [
    "#from IPython import display as diag_display\n",
    "#diag_display.Image(\"../Images/[LAB] Trail Power (Charge) Properties and Constraints.jpg\")\n"
   ]
  },
  {
   "cell_type": "markdown",
   "id": "370bc31e-ec6e-479f-b57b-ed7f3eb72590",
   "metadata": {},
   "source": [
    "## Display all the parameters and respective components/functions in the logical architecture\n",
    "The following is a report of all the parameters avialable to be used. "
   ]
  },
  {
   "cell_type": "code",
   "execution_count": 15,
   "id": "fb825b53-1c09-420f-af0e-22b51ad5639e",
   "metadata": {},
   "outputs": [
    {
     "data": {
      "text/html": [
       "<div>\n",
       "<style scoped>\n",
       "    .dataframe tbody tr th:only-of-type {\n",
       "        vertical-align: middle;\n",
       "    }\n",
       "\n",
       "    .dataframe tbody tr th {\n",
       "        vertical-align: top;\n",
       "    }\n",
       "\n",
       "    .dataframe thead th {\n",
       "        text-align: right;\n",
       "    }\n",
       "</style>\n",
       "<table border=\"1\" class=\"dataframe\">\n",
       "  <thead>\n",
       "    <tr style=\"text-align: right;\">\n",
       "      <th></th>\n",
       "      <th>Logical Function</th>\n",
       "      <th>Property Value Group Name</th>\n",
       "      <th>Propery Name</th>\n",
       "      <th>Property Value</th>\n",
       "    </tr>\n",
       "  </thead>\n",
       "  <tbody>\n",
       "  </tbody>\n",
       "</table>\n",
       "</div>"
      ],
      "text/plain": [
       "Empty DataFrame\n",
       "Columns: [Logical Function, Property Value Group Name, Propery Name, Property Value]\n",
       "Index: []"
      ]
     },
     "metadata": {},
     "output_type": "display_data"
    },
    {
     "data": {
      "text/html": [
       "<div>\n",
       "<style scoped>\n",
       "    .dataframe tbody tr th:only-of-type {\n",
       "        vertical-align: middle;\n",
       "    }\n",
       "\n",
       "    .dataframe tbody tr th {\n",
       "        vertical-align: top;\n",
       "    }\n",
       "\n",
       "    .dataframe thead th {\n",
       "        text-align: right;\n",
       "    }\n",
       "</style>\n",
       "<table border=\"1\" class=\"dataframe\">\n",
       "  <thead>\n",
       "    <tr style=\"text-align: right;\">\n",
       "      <th></th>\n",
       "      <th>Logical Component</th>\n",
       "      <th>Property Value Group Name</th>\n",
       "      <th>Property Name</th>\n",
       "      <th>Property Value</th>\n",
       "    </tr>\n",
       "  </thead>\n",
       "  <tbody>\n",
       "  </tbody>\n",
       "</table>\n",
       "</div>"
      ],
      "text/plain": [
       "Empty DataFrame\n",
       "Columns: [Logical Component, Property Value Group Name, Property Name, Property Value]\n",
       "Index: []"
      ]
     },
     "metadata": {},
     "output_type": "display_data"
    },
    {
     "name": "stdout",
     "output_type": "stream",
     "text": [
      "Engine Block\n",
      "Cylinders\n",
      "Pistons\n",
      "Crankshaft\n",
      "Connecting Rods\n",
      "Cylinder Head\n",
      "Valves\n",
      "Camshaft\n",
      "Timing Chain/Belt\n",
      "Fuel Injectors\n",
      "Turbocharger\n",
      "Intercooler\n",
      "Glow Plugs\n",
      "Fuel Pump\n",
      "Exhaust Manifold\n",
      "Intake Manifold\n",
      "Oil Pump\n",
      "Water Pump\n",
      "Radiator\n",
      "Flywheel\n",
      "Air Filter\n",
      "Engine Control Unit\n",
      "EGR System\n",
      "Particulate Filter\n",
      "Components successfully added to the Capella model.\n"
     ]
    }
   ],
   "source": [
    "import io\n",
    "from capellambse import decl\n",
    "la_model = model.la \n",
    "\n",
    "capellambse_helper.display_function_property_values(la_model)\n",
    "\n",
    "capellambse_helper.display_component_property_values(la_model)\n",
    "\n",
    "#help(la_model.root_component)\n",
    "\n",
    "# Example system components you want to create\n",
    "components = [\n",
    "    {\"name\": \"Engine Block\", \"function\": \"Foundation of the engine, housing cylinders for combustion\"},\n",
    "    {\"name\": \"Cylinders\", \"function\": \"Chambers where air is compressed and diesel fuel is injected\"},\n",
    "    {\"name\": \"Pistons\", \"function\": \"Convert energy from combustion into mechanical energy\"},\n",
    "    {\"name\": \"Crankshaft\", \"function\": \"Converts linear motion of pistons into rotational motion\"},\n",
    "    {\"name\": \"Connecting Rods\", \"function\": \"Connect pistons to crankshaft, transmitting motion\"},\n",
    "    {\"name\": \"Cylinder Head\", \"function\": \"Seals the top of the engine block, forming combustion chamber\"},\n",
    "    {\"name\": \"Valves\", \"function\": \"Regulate the flow of air into cylinders and exhaust gases out\"},\n",
    "    {\"name\": \"Camshaft\", \"function\": \"Controls the opening and closing of intake and exhaust valves\"},\n",
    "    {\"name\": \"Timing Chain/Belt\", \"function\": \"Synchronizes the rotation of crankshaft and camshaft\"},\n",
    "    {\"name\": \"Fuel Injectors\", \"function\": \"Delivers diesel fuel into the combustion chamber\"},\n",
    "    {\"name\": \"Turbocharger\", \"function\": \"Increases air entering the engine, improving power and efficiency\"},\n",
    "    {\"name\": \"Intercooler\", \"function\": \"Cools compressed air from turbocharger before entering engine\"},\n",
    "    {\"name\": \"Glow Plugs\", \"function\": \"Preheats combustion chamber to assist in cold starting\"},\n",
    "    {\"name\": \"Fuel Pump\", \"function\": \"Pumps diesel fuel from tank to injectors at high pressure\"},\n",
    "    {\"name\": \"Exhaust Manifold\", \"function\": \"Collects exhaust gases and directs them to the exhaust system\"},\n",
    "    {\"name\": \"Intake Manifold\", \"function\": \"Distributes air to the engine's cylinders\"},\n",
    "    {\"name\": \"Oil Pump\", \"function\": \"Circulates oil throughout the engine for lubrication\"},\n",
    "    {\"name\": \"Water Pump\", \"function\": \"Circulates coolant to regulate engine temperature\"},\n",
    "    {\"name\": \"Radiator\", \"function\": \"Cools the engine by dissipating heat from the coolant\"},\n",
    "    {\"name\": \"Flywheel\", \"function\": \"Stores rotational energy and smooths power pulses\"},\n",
    "    {\"name\": \"Air Filter\", \"function\": \"Filters air before it enters the engine\"},\n",
    "    {\"name\": \"Engine Control Unit\", \"function\": \"Controls fuel injection timing, air intake, and turbocharging\"},\n",
    "    {\"name\": \"EGR System\", \"function\": \"Reduces emissions by recirculating exhaust gases\"},\n",
    "    {\"name\": \"Particulate Filter\", \"function\": \"Captures soot and particulate matter from exhaust gases\"}\n",
    "]\n",
    "\n",
    "# Create a function to add components to the Capella model\n",
    "def create_logical_component(model,root_component,component):\n",
    "    print(component[\"name\"])\n",
    "    model_update = f\"\"\"\n",
    "            - parent: !uuid {root_component.uuid}\n",
    "              extend:\n",
    "                components:\n",
    "                    - name: {component[\"name\"]}\n",
    "            \"\"\"\n",
    "        # the below line applies the model_update to the model\n",
    "    decl.apply(model, io.StringIO(model_update))\n",
    "    \n",
    "\n",
    "# Add components to the Capella model\n",
    "for comp in components:\n",
    "    create_logical_component(model,la_model.root_component,comp)\n",
    "\n",
    "\n",
    "print(\"Components successfully added to the Capella model.\")\n",
    "\n",
    "\n"
   ]
  },
  {
   "cell_type": "markdown",
   "id": "1c4b3bd9-9d72-4109-ad56-611af9d6a944",
   "metadata": {},
   "source": [
    "## Display all the constraint components/functions in the logical architecture\n",
    "The following is a report of all the constraints avialable to be used. "
   ]
  },
  {
   "cell_type": "markdown",
   "id": "5f426a42-e98a-494f-a19d-54f3ee21d333",
   "metadata": {},
   "source": [
    "The following code can be used in the study to retrive the value from the model to use in the study.\n",
    "\n",
    "your_variable = model.search(\"LogicalFunction\").by_name(\"Name of Function\").property_value_groups[\"Name of property Value Group\"][\"Name of Property\"])\n",
    "\n",
    "You can see an example below."
   ]
  },
  {
   "cell_type": "code",
   "execution_count": null,
   "id": "cbecba9a-fbb7-4bf3-a46a-5990b1032f21",
   "metadata": {
    "jupyter": {
     "source_hidden": true
    },
    "scrolled": true
   },
   "outputs": [],
   "source": [
    "print( \"Battery Size\" , model.search(\"LogicalComponent\").by_name(\"Battery\").property_value_groups[\"Battery Capacity\"][\"Value\"] ,\\\n",
    "\"Units:\" ,model.search(\"LogicalComponent\").by_name(\"Battery\").property_value_groups[\"Battery Capacity\"][\"Units\"])\n",
    "help(model)"
   ]
  },
  {
   "cell_type": "code",
   "execution_count": null,
   "id": "4b1bfa0b-0ab6-4883-8268-771e701a95a1",
   "metadata": {
    "jupyter": {
     "source_hidden": true
    }
   },
   "outputs": [],
   "source": [
    "capellambse_helper.display_function_constraints(la_model)\n",
    "\n",
    "capellambse_helper.display_component_constraints(la_model)\n"
   ]
  },
  {
   "cell_type": "code",
   "execution_count": null,
   "id": "55856c07-3f48-4576-b667-82e90e658e95",
   "metadata": {
    "scrolled": true
   },
   "outputs": [],
   "source": [
    "spec_index=0\n",
    "print( \"Logical Function Constraint:\" , model.search(\"LogicalFunction\").by_name(\"Charge Storage Device\").constraints[spec_index].spectext())\n"
   ]
  },
  {
   "cell_type": "markdown",
   "id": "f3d0da51-9b04-4b89-8b9d-6027ff723c18",
   "metadata": {},
   "source": [
    "The following code can be used in the study to retrive the value from the model to use in the study.\n",
    "\n",
    "your_variable =  model.search(\"LogicalFunction\").by_name(\"Charge Storage Device\").constraints[spec_index].spectext())\n",
    "\n",
    "You can see an example below."
   ]
  }
 ],
 "metadata": {
  "kernelspec": {
   "display_name": "Python 3 (ipykernel)",
   "language": "python",
   "name": "python3"
  },
  "language_info": {
   "codemirror_mode": {
    "name": "ipython",
    "version": 3
   },
   "file_extension": ".py",
   "mimetype": "text/x-python",
   "name": "python",
   "nbconvert_exporter": "python",
   "pygments_lexer": "ipython3",
   "version": "3.11.7"
  }
 },
 "nbformat": 4,
 "nbformat_minor": 5
}
