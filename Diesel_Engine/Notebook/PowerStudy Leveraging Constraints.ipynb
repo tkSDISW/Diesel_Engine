{
 "cells": [
  {
   "cell_type": "markdown",
   "id": "b46e4f09-8115-49fc-8989-f01d087f109a",
   "metadata": {},
   "source": [
    "# Diesel Engine - Power Study"
   ]
  },
  {
   "cell_type": "markdown",
   "id": "6f1b91e1-c1c2-4ac1-8580-94ceef32f2c0",
   "metadata": {},
   "source": [
    "This is a study that will use properties in the a Capella model to perform a study on the number of solar panels required to satisfy various a few usage scenarios.\n",
    "\n",
    "Access the System Model that is in GitHUB folder with a python module \"caplellambse\" that can read and modify the SMW/Capella model content."
   ]
  },
  {
   "cell_type": "code",
   "execution_count": 5,
   "id": "e99b2511-2f4f-427a-9b6c-091d684bfcf5",
   "metadata": {
    "scrolled": true
   },
   "outputs": [],
   "source": [
    "import capellambse\n",
    "\n",
    "import ipywidgets as widgets\n",
    "from IPython.core.display import HTML\n",
    "import numpy as np\n",
    "import pandas as pd \n",
    "from IPython.display import Markdown\n",
    "\n",
    "\n",
    "resources = {\n",
    "    \"Diesel_Engine\": \"Diesel_Engine/Diesel_Engine\",\n",
    "}\n",
    "path_to_model = \"../Diesel_Engine.aird\"\n",
    "model = capellambse.MelodyModel(path_to_model, resources=resources)\n",
    "\n",
    "import capellambse_helper #local python module in same directory as notebook needs to be included after model object is created since it patches/extends capabilitits of the model "
   ]
  },
  {
   "cell_type": "markdown",
   "id": "1a94df42-75f8-4c75-a7a9-de6f49459482",
   "metadata": {},
   "source": [
    "Display a diagram from the capella module with parameters being accessed. Note that this diagram is not being pulled dynamically, due to the desire to see the parameters on the diagram. It is pulling a snapshot of a .jpg diagram."
   ]
  },
  {
   "cell_type": "code",
   "execution_count": 6,
   "id": "7d61e236-8602-4dd2-b6f0-6696b8c57bea",
   "metadata": {},
   "outputs": [],
   "source": [
    "#from IPython import display as diag_display\n",
    "#diag_display.Image(\"../Images/[LAB] Trail Power (Charge) Properties and Constraints.jpg\")\n"
   ]
  },
  {
   "cell_type": "markdown",
   "id": "370bc31e-ec6e-479f-b57b-ed7f3eb72590",
   "metadata": {},
   "source": [
    "## Display all the parameters and respective components/functions in the logical architecture\n",
    "The following is a report of all the parameters avialable to be used. "
   ]
  },
  {
   "cell_type": "code",
   "execution_count": 7,
   "id": "fb825b53-1c09-420f-af0e-22b51ad5639e",
   "metadata": {},
   "outputs": [
    {
     "data": {
      "text/html": [
       "<div>\n",
       "<style scoped>\n",
       "    .dataframe tbody tr th:only-of-type {\n",
       "        vertical-align: middle;\n",
       "    }\n",
       "\n",
       "    .dataframe tbody tr th {\n",
       "        vertical-align: top;\n",
       "    }\n",
       "\n",
       "    .dataframe thead th {\n",
       "        text-align: right;\n",
       "    }\n",
       "</style>\n",
       "<table border=\"1\" class=\"dataframe\">\n",
       "  <thead>\n",
       "    <tr style=\"text-align: right;\">\n",
       "      <th></th>\n",
       "      <th>Logical Function</th>\n",
       "      <th>Property Value Group Name</th>\n",
       "      <th>Propery Name</th>\n",
       "      <th>Property Value</th>\n",
       "    </tr>\n",
       "  </thead>\n",
       "  <tbody>\n",
       "  </tbody>\n",
       "</table>\n",
       "</div>"
      ],
      "text/plain": [
       "Empty DataFrame\n",
       "Columns: [Logical Function, Property Value Group Name, Propery Name, Property Value]\n",
       "Index: []"
      ]
     },
     "metadata": {},
     "output_type": "display_data"
    },
    {
     "data": {
      "text/html": [
       "<div>\n",
       "<style scoped>\n",
       "    .dataframe tbody tr th:only-of-type {\n",
       "        vertical-align: middle;\n",
       "    }\n",
       "\n",
       "    .dataframe tbody tr th {\n",
       "        vertical-align: top;\n",
       "    }\n",
       "\n",
       "    .dataframe thead th {\n",
       "        text-align: right;\n",
       "    }\n",
       "</style>\n",
       "<table border=\"1\" class=\"dataframe\">\n",
       "  <thead>\n",
       "    <tr style=\"text-align: right;\">\n",
       "      <th></th>\n",
       "      <th>Logical Component</th>\n",
       "      <th>Property Value Group Name</th>\n",
       "      <th>Property Name</th>\n",
       "      <th>Property Value</th>\n",
       "    </tr>\n",
       "  </thead>\n",
       "  <tbody>\n",
       "  </tbody>\n",
       "</table>\n",
       "</div>"
      ],
      "text/plain": [
       "Empty DataFrame\n",
       "Columns: [Logical Component, Property Value Group Name, Property Name, Property Value]\n",
       "Index: []"
      ]
     },
     "metadata": {},
     "output_type": "display_data"
    }
   ],
   "source": [
    "la_model = model.la \n",
    "\n",
    "capellambse_helper.display_function_property_values(la_model)\n",
    "\n",
    "capellambse_helper.display_component_property_values(la_model)\n"
   ]
  },
  {
   "cell_type": "markdown",
   "id": "1c4b3bd9-9d72-4109-ad56-611af9d6a944",
   "metadata": {},
   "source": [
    "## Display all the constraint components/functions in the logical architecture\n",
    "The following is a report of all the constraints avialable to be used. "
   ]
  },
  {
   "cell_type": "markdown",
   "id": "5f426a42-e98a-494f-a19d-54f3ee21d333",
   "metadata": {},
   "source": [
    "The following code can be used in the study to retrive the value from the model to use in the study.\n",
    "\n",
    "your_variable = model.search(\"LogicalFunction\").by_name(\"Name of Function\").property_value_groups[\"Name of property Value Group\"][\"Name of Property\"])\n",
    "\n",
    "You can see an example below."
   ]
  },
  {
   "cell_type": "code",
   "execution_count": 8,
   "id": "cbecba9a-fbb7-4bf3-a46a-5990b1032f21",
   "metadata": {
    "jupyter": {
     "source_hidden": true
    },
    "scrolled": true
   },
   "outputs": [
    {
     "ename": "KeyError",
     "evalue": "'Battery'",
     "output_type": "error",
     "traceback": [
      "\u001b[0;31m---------------------------------------------------------------------------\u001b[0m",
      "\u001b[0;31mKeyError\u001b[0m                                  Traceback (most recent call last)",
      "Cell \u001b[0;32mIn[8], line 1\u001b[0m\n\u001b[0;32m----> 1\u001b[0m \u001b[38;5;28mprint\u001b[39m( \u001b[38;5;124m\"\u001b[39m\u001b[38;5;124mBattery Size\u001b[39m\u001b[38;5;124m\"\u001b[39m , \u001b[43mmodel\u001b[49m\u001b[38;5;241;43m.\u001b[39;49m\u001b[43msearch\u001b[49m\u001b[43m(\u001b[49m\u001b[38;5;124;43m\"\u001b[39;49m\u001b[38;5;124;43mLogicalComponent\u001b[39;49m\u001b[38;5;124;43m\"\u001b[39;49m\u001b[43m)\u001b[49m\u001b[38;5;241;43m.\u001b[39;49m\u001b[43mby_name\u001b[49m\u001b[43m(\u001b[49m\u001b[38;5;124;43m\"\u001b[39;49m\u001b[38;5;124;43mBattery\u001b[39;49m\u001b[38;5;124;43m\"\u001b[39;49m\u001b[43m)\u001b[49m\u001b[38;5;241m.\u001b[39mproperty_value_groups[\u001b[38;5;124m\"\u001b[39m\u001b[38;5;124mBattery Capacity\u001b[39m\u001b[38;5;124m\"\u001b[39m][\u001b[38;5;124m\"\u001b[39m\u001b[38;5;124mValue\u001b[39m\u001b[38;5;124m\"\u001b[39m] ,\\\n\u001b[1;32m      2\u001b[0m \u001b[38;5;124m\"\u001b[39m\u001b[38;5;124mUnits:\u001b[39m\u001b[38;5;124m\"\u001b[39m ,model\u001b[38;5;241m.\u001b[39msearch(\u001b[38;5;124m\"\u001b[39m\u001b[38;5;124mLogicalComponent\u001b[39m\u001b[38;5;124m\"\u001b[39m)\u001b[38;5;241m.\u001b[39mby_name(\u001b[38;5;124m\"\u001b[39m\u001b[38;5;124mBattery\u001b[39m\u001b[38;5;124m\"\u001b[39m)\u001b[38;5;241m.\u001b[39mproperty_value_groups[\u001b[38;5;124m\"\u001b[39m\u001b[38;5;124mBattery Capacity\u001b[39m\u001b[38;5;124m\"\u001b[39m][\u001b[38;5;124m\"\u001b[39m\u001b[38;5;124mUnits\u001b[39m\u001b[38;5;124m\"\u001b[39m])\n\u001b[1;32m      3\u001b[0m help(model)\n",
      "File \u001b[0;32m/usr/local/lib/python3.11/dist-packages/capellambse/model/_obj.py:1038\u001b[0m, in \u001b[0;36m_ListFilter.__call__\u001b[0;34m(self, single, *values)\u001b[0m\n\u001b[1;32m   1036\u001b[0m     \u001b[38;5;28;01mraise\u001b[39;00m \u001b[38;5;167;01mKeyError\u001b[39;00m(\u001b[38;5;124mf\u001b[39m\u001b[38;5;124m\"\u001b[39m\u001b[38;5;124mMultiple matches for \u001b[39m\u001b[38;5;132;01m{\u001b[39;00mvalue\u001b[38;5;132;01m!r}\u001b[39;00m\u001b[38;5;124m\"\u001b[39m)\n\u001b[1;32m   1037\u001b[0m \u001b[38;5;28;01mif\u001b[39;00m \u001b[38;5;28mlen\u001b[39m(elements) \u001b[38;5;241m==\u001b[39m \u001b[38;5;241m0\u001b[39m:\n\u001b[0;32m-> 1038\u001b[0m     \u001b[38;5;28;01mraise\u001b[39;00m \u001b[38;5;167;01mKeyError\u001b[39;00m(values[\u001b[38;5;241m0\u001b[39m] \u001b[38;5;28;01mif\u001b[39;00m \u001b[38;5;28mlen\u001b[39m(values) \u001b[38;5;241m==\u001b[39m \u001b[38;5;241m1\u001b[39m \u001b[38;5;28;01melse\u001b[39;00m values)\n\u001b[1;32m   1039\u001b[0m \u001b[38;5;28;01mreturn\u001b[39;00m \u001b[38;5;28mself\u001b[39m\u001b[38;5;241m.\u001b[39m_parent[indices[\u001b[38;5;241m0\u001b[39m]]\n",
      "\u001b[0;31mKeyError\u001b[0m: 'Battery'"
     ]
    }
   ],
   "source": [
    "print( \"Battery Size\" , model.search(\"LogicalComponent\").by_name(\"Battery\").property_value_groups[\"Battery Capacity\"][\"Value\"] ,\\\n",
    "\"Units:\" ,model.search(\"LogicalComponent\").by_name(\"Battery\").property_value_groups[\"Battery Capacity\"][\"Units\"])\n",
    "help(model)"
   ]
  },
  {
   "cell_type": "code",
   "execution_count": null,
   "id": "4b1bfa0b-0ab6-4883-8268-771e701a95a1",
   "metadata": {
    "jupyter": {
     "source_hidden": true
    }
   },
   "outputs": [],
   "source": [
    "capellambse_helper.display_function_constraints(la_model)\n",
    "\n",
    "capellambse_helper.display_component_constraints(la_model)\n"
   ]
  },
  {
   "cell_type": "code",
   "execution_count": null,
   "id": "55856c07-3f48-4576-b667-82e90e658e95",
   "metadata": {
    "scrolled": true
   },
   "outputs": [],
   "source": [
    "spec_index=0\n",
    "print( \"Logical Function Constraint:\" , model.search(\"LogicalFunction\").by_name(\"Charge Storage Device\").constraints[spec_index].spectext())\n"
   ]
  },
  {
   "cell_type": "markdown",
   "id": "f3d0da51-9b04-4b89-8b9d-6027ff723c18",
   "metadata": {},
   "source": [
    "The following code can be used in the study to retrive the value from the model to use in the study.\n",
    "\n",
    "your_variable =  model.search(\"LogicalFunction\").by_name(\"Charge Storage Device\").constraints[spec_index].spectext())\n",
    "\n",
    "You can see an example below."
   ]
  },
  {
   "cell_type": "code",
   "execution_count": null,
   "id": "0e74944f-f50c-4ee6-a63c-b1b0be80034f",
   "metadata": {},
   "outputs": [],
   "source": [
    "from sympy import symbols, Piecewise, sin, pi, Heaviside, integrate, And, simplify\n",
    "import numpy as np\n",
    "\n",
    "import sympy as sp\n",
    "import pandas as pd \n",
    "import plotly.express as px\n",
    "from IPython.display import Markdown\n",
    "from scipy.integrate import simpson\n",
    "from scipy.stats import kendalltau"
   ]
  },
  {
   "cell_type": "code",
   "execution_count": null,
   "id": "ecd2cd12-4ee5-4712-a402-a9a069c7e18b",
   "metadata": {},
   "outputs": [],
   "source": [
    "t = symbols('t')\n",
    "period = symbols('period')\n"
   ]
  },
  {
   "cell_type": "code",
   "execution_count": null,
   "id": "b9a6a9b9-1ff0-4e54-bf4d-677e9d7377cc",
   "metadata": {},
   "outputs": [],
   "source": [
    "sun_period_value = model.search(\"LogicalComponent\").by_name(\"Sun\").property_value_groups[\"DailySunLight\"][\"Value\"] # Example period of 12 hours for .50\n",
    "load_period_value = model.search(\"LogicalFunction\").by_name(\"Accept Charger\").property_value_groups[\"DailyActivity\"][\"Max Value\"]  # Example period of 12 hours for .50\n",
    "panel_power = model.search(\"LogicalComponent\").by_name(\"Solar Panel\").property_value_groups[\"Solar Panel Wattage\"][\"Value\"] \n",
    "solar_panel_count_min = model.search(\"LogicalComponent\").by_name(\"Solar Panel\").property_value_groups[\"Solar Panel Count\"][\"Min Solar Panel Count\"]\n",
    "solar_panel_count_max = model.search(\"LogicalComponent\").by_name(\"Solar Panel\").property_value_groups[\"Solar Panel Count\"][\"Max Solar Panel Count\"]\n",
    "boost_efficiency = model.search(\"LogicalComponent\").by_name(\"Boost\").property_value_groups[\"Boost Efficiency\"][\"Value\"]\n",
    "boost_current_limit = model.search(\"LogicalComponent\").by_name(\"Boost\").property_value_groups[\"DeviceCurrentLimit\"][\"Value\"]\n",
    "charger_eff =model.search(\"LogicalComponent\").by_name(\"Charger\").property_value_groups[\"Charger Efficiency\"][\"Value\"]\n",
    "battery_capacity =model.search(\"LogicalComponent\").by_name(\"Battery\").property_value_groups[\"Battery Capacity\"][\"Value\"]/1000 \n",
    "battery_count_min = model.search(\"LogicalComponent\").by_name(\"Battery\").property_value_groups[\"BatteryCount\"][\"Min Battery Count\"]\n",
    "battery_count_max = model.search(\"LogicalComponent\").by_name(\"Battery\").property_value_groups[\"BatteryCount\"][\"Max Battery Count\"]\n",
    "\n",
    "display(Markdown(f\"# Formulas for Power Generator, BatteryLoad and Battery Charge and constant values for Study from System Model.\"))\n",
    "\n",
    "display(Markdown(f\" $$SunPeriod= {sun_period_value} $$\"))\n",
    "display(Markdown(f\" $$LoadPeriod= {load_period_value} $$\"))\n",
    "display(Markdown(f\" $$BoostEfficiency = {boost_efficiency } $$\"))\n",
    "display(Markdown(f\" $$USBCurrent = {boost_current_limit } $$\"))\n",
    "constraint = model.search(\"LogicalComponent\").by_name(\"Solar Panel\").constraints[0].spectext()\n",
    "display(Markdown(f\" The constraint for the Solar Panel and properties:$${constraint} $$ \" ))\n",
    "constraint = model.search(\"LogicalFunction\").by_name(\"Charge Storage Device\").constraints[0].spectext()\n",
    "display(Markdown(f\" and the constraint for the Charger function:$${constraint} $$ results in following formula to be evaluated in the simulation.\" ))\n",
    "display(Markdown(f\" $$PowerGenerator(t) = PulseTrain(t,SunPeriod* 24/100,24,24*7)*SolarPanelWattage * ChargerEfficiency/100 $$\"))\n",
    "constraint = model.search(\"LogicalFunction\").by_name(\"Boost Voltage to USB\").constraints[0].spectext()\n",
    "display(Markdown(f\" The constraint for the Boost functions and properties:$${constraint} $$ results in following formula to be evaluated in the simulation.\" ))\n",
    "display(Markdown(f\" $$BatteryLoad(t) = PulseTrain(t,LoadPeriod * 24/100,24 , 24*7) * USBCurrent * 5.0 ((1 - BoostEfficiency/100)+1)   $$\"))\n",
    "\n",
    "constraint = model.search(\"LogicalFunction\").by_name(\"Store Energy\").constraints[0].spectext()\n",
    "display(Markdown(f\" The constraint for the function Store Energe and properties:$${constraint} $$ results in following two formulas to be evaluated in the simulation.\" ))\n",
    "display(Markdown(f\" $$TotalPower(t) = PowerGenerator(t) - BatteryLoad(t)  $$\"))\n",
    "display(Markdown(f\" $$BatteryCharge  = \\int_{0}^{t} TotalPower(t)\\, dt$$\"))"
   ]
  },
  {
   "cell_type": "code",
   "execution_count": null,
   "id": "9478258a-381d-415e-bc36-a8e7853435d7",
   "metadata": {},
   "outputs": [],
   "source": [
    "\n",
    "\n",
    "# Define the pulse function\n",
    "def pulse(t, start, width):\n",
    "    return Piecewise(\n",
    "        (1, And(t >= start, t < start + width)),\n",
    "        (0, True)\n",
    "    )\n",
    "\n",
    "# Define a pulse train that operates over a specified time length\n",
    "def pulse_train(t, pulse_width, period, total_time):\n",
    "    # Calculate the number of pulses that fit within the total time\n",
    "    num_pulses = int(total_time // period)\n",
    "    \n",
    "    # Generate the pulse train expression\n",
    "    return sum(pulse(t, start=i*period, width=pulse_width) for i in range(num_pulses))\n",
    "\n",
    "\n",
    "\n",
    "def power_generator(t, pulse_width, period, total_time,  SP_Power, charger_eff ):\n",
    "    return (charger_eff/100) *SP_Power * pulse_train(t, pulse_width, period, total_time)\n",
    "    \n",
    "\n",
    "def battery_load(t,  pulse_width, period, total_time, USB_Current,Boost_Efficiency):\n",
    "    return USB_Current * 5.0  * ((1 - Boost_Efficiency/100)+1) * pulse_train(t, pulse_width, period, total_time)\n",
    "    \n",
    "\n",
    "\n"
   ]
  },
  {
   "cell_type": "markdown",
   "id": "69ff26de-8471-4bc6-8c50-81eb4150adfd",
   "metadata": {},
   "source": [
    "The following study will look at the various configuations of battery count and panel count and generate graphs of Power Produced from the solar pannels, the Power Desired vs Delivered over time, Power Produced and Consumed over time, and the the Battery Charge over time. \n",
    "\n",
    "The best system will show Power Desired vs Delivered with the best alignment, meaning that the system is meeting the needs of the user. \n",
    "That will happen when the battery always has suffienct charge to meet the desired demands. \n",
    "\n",
    "The best results will also reflect the highest value for Kendal's Tau Correlation. "
   ]
  },
  {
   "cell_type": "code",
   "execution_count": null,
   "id": "01f88f49-125a-4915-91d1-3fa9a343ceb8",
   "metadata": {},
   "outputs": [],
   "source": [
    "\n",
    "\n",
    "panel_count = solar_panel_count_min \n",
    "study = 1\n",
    "while panel_count <= solar_panel_count_max :\n",
    "    #print(\"panel_count\",panel_count)\n",
    "    battery_count = battery_count_min\n",
    "    while battery_count <= battery_count_max:\n",
    "        #print(\"battery_count\",battery_count)\n",
    "        display(Markdown(f\"# Study Configuration {study}\"))\n",
    "        if study == 1:\n",
    "            display(Markdown(f\" This is low cost option. It has the least amount of solar panels and batterys.\"))\n",
    "        if study == 9:\n",
    "            display(Markdown(f\" This is the highest cost option. It has the hightest amount of solar panels and batterys.\")) \n",
    "        display(Markdown(f\" $$PanelCount =  {panel_count} $$\"))\n",
    "        display(Markdown(f\" $$BatteryCount =  {battery_count} $$\"))\n",
    "        \n",
    "        display(Markdown(f\" $$BatteryCapacity = BatteryCapactiy * BatteryCount = { battery_capacity } * {battery_count} AH $$\"))\n",
    "\n",
    "        power_in_expr = power_generator(t, sun_period_value * 24/100, 24, 7*24,  panel_power*panel_count ,charger_eff)\n",
    "        power_out_expr = battery_load(t , load_period_value*  24/100,  24,  7*24  ,boost_current_limit,boost_efficiency)\n",
    "        #power_expr = power_in_expr -   power_out_expr\n",
    "        #print(simplify(power_expr))\n",
    "\n",
    "        \n",
    "        # Substitute period value into the expression\n",
    "        power_in_func = power_in_expr.subs(period, sun_period_value)\n",
    "        power_out_func = power_out_expr.subs(period, sun_period_value)\n",
    "        #power_func = power_expr.subs(period, sun_period_value)\n",
    "\n",
    "        \n",
    "        \n",
    "        # Generate data for plotting\n",
    "        t_vals = np.linspace(0, 7*24, 300)\n",
    "        total_powers = []\n",
    "        battery_powers =[]\n",
    "        power_in = []\n",
    "        power_out_desired = []\n",
    "        power_out_delivered = []\n",
    "        t_val_points = []\n",
    "        battery_power =0 \n",
    "        for t_val in t_vals:\n",
    "            power_in_eval = power_in_func.evalf(subs={t: t_val})\n",
    "            power_out_eval = power_out_func.evalf(subs={t: t_val})\n",
    "            \n",
    "\n",
    "            t_val_points.append(t_val)# for simpson\n",
    "            power_in.append(float(power_in_eval))\n",
    "            power_out_desired.append(float(power_out_eval))\n",
    "            if battery_power <= 0 :\n",
    "                power_out_delivered.append(float(0.0))\n",
    "                total_powers.append(float(power_in_eval )) #had to covert to python float to elimnate TypeError: float() argument must be a string or a real number, not 'generator'\n",
    "            else :\n",
    "                power_out_delivered.append(float(power_out_eval))\n",
    "                total_powers.append(float(power_in_eval - power_out_eval)) #had to covert to python float to elimnate TypeError: float() argument must be a string or a real number, not 'generator'\n",
    "            battery_power= simpson( total_powers)\n",
    "            if battery_power >= battery_capacity + battery_count :\n",
    "                battery_power = battery_capacity + battery_count\n",
    "            if battery_power <  0  :\n",
    "                battery_power = 0\n",
    "            battery_powers.append(float(battery_power)) #had to covert to python float to elimnate TypeError: float() argument must be a string or a real number, not 'generator'\n",
    "        #print(f\"Numerical Integration Result: {battery_power}\")\n",
    "        #print(f\"Estimated Error: {error}\")\n",
    "        study =  study +1\n",
    "\n",
    "        \n",
    "        df = pd.DataFrame({'Time': t_vals,'Power In': power_in,'Power Out Desired':power_out_desired,'Power Out Delivered':power_out_delivered, 'Power':total_powers,'Battery Power':battery_powers})\n",
    "        #print(df)\n",
    "        fig = px.line(df, x='Time', y='Power In', title='Power Produced')\n",
    "        \n",
    "        fig.update_layout(xaxis_title='Time (hours)',\n",
    "                           yaxis_title='Power (Watts)')\n",
    "        # Show the plot\n",
    "        fig.show()\n",
    " \n",
    "        fig = px.line(df, x='Time',  y=[ 'Power Out Desired','Power Out Delivered'], title='Power Desired vs. Delivered')\n",
    "        \n",
    "        fig.update_layout(xaxis_title='Time (hours)',\n",
    "                           yaxis_title='Power (Watts)')\n",
    "        # Show the plot\n",
    "        fig.show()\n",
    "\n",
    "        \n",
    "        fig = px.line(df, x='Time', y='Power', title='Power Produced and Consumed Over Time')\n",
    "        \n",
    "        fig.update_layout(xaxis_title='Time (hours)',\n",
    "                           yaxis_title='Power (Watts)')\n",
    "        # Show the plot\n",
    "        fig.show()\n",
    "        \n",
    "        \n",
    "        fig = px.line(df, x='Time', y='Battery Power', title='Battery Charge Over Time')\n",
    "        \n",
    "        fig.update_layout(xaxis_title='Time (hours)',\n",
    "                           yaxis_title='Battery Charge (Ah')\n",
    "        # Show the plot\n",
    "        fig.show()   \n",
    "        correlation,p_value  = kendalltau(df['Power Out Desired'],df['Power Out Delivered'])\n",
    "        print(f\"Kendall's Tau: {correlation}\")\n",
    "        print(f\"P-value: {p_value}\")\n",
    "        battery_count = 1 + battery_count\n",
    "    panel_count = 1 + panel_count\n",
    "     \n"
   ]
  },
  {
   "cell_type": "markdown",
   "id": "4d21d6d6-1165-4900-aee9-d7425948a032",
   "metadata": {},
   "source": [
    "## Study Summary (Manual Update by Study Reviewer) \n",
    "Study results indicates that a good solution for the maximum desired use, that 4 solar panels and at least 3 batteries will meet the deired need. "
   ]
  },
  {
   "cell_type": "code",
   "execution_count": null,
   "id": "da24b8ce-1a7f-4c8c-aa5d-8e1825b737eb",
   "metadata": {},
   "outputs": [],
   "source": []
  }
 ],
 "metadata": {
  "kernelspec": {
   "display_name": "Python 3 (ipykernel)",
   "language": "python",
   "name": "python3"
  },
  "language_info": {
   "codemirror_mode": {
    "name": "ipython",
    "version": 3
   },
   "file_extension": ".py",
   "mimetype": "text/x-python",
   "name": "python",
   "nbconvert_exporter": "python",
   "pygments_lexer": "ipython3",
   "version": "3.11.7"
  }
 },
 "nbformat": 4,
 "nbformat_minor": 5
}
